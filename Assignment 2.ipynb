{
 "cells": [
  {
   "cell_type": "code",
   "execution_count": 4,
   "id": "5cb249ef",
   "metadata": {},
   "outputs": [
    {
     "name": "stdout",
     "output_type": "stream",
     "text": [
      "Enter the number of maximum stars in a row 9\n",
      " * \n",
      " *  * \n",
      " *  *  * \n",
      " *  *  *  * \n",
      " *  *  *  *  * \n",
      " *  *  *  *  *  * \n",
      " *  *  *  *  *  *  * \n",
      " *  *  *  *  *  *  *  * \n",
      " *  *  *  *  *  *  *  *  * \n",
      " *  *  *  *  *  *  *  * \n",
      " *  *  *  *  *  *  * \n",
      " *  *  *  *  *  * \n",
      " *  *  *  *  * \n",
      " *  *  *  * \n",
      " *  *  * \n",
      " *  * \n",
      " * \n",
      "\n"
     ]
    }
   ],
   "source": [
    "#Question 1\n",
    "n=int(input('Enter the number of maximum stars in a row '))\n",
    "for i in range(0,n):\n",
    "    for j in range(i+1):\n",
    "        print(\" * \" , end = \"\")\n",
    "    print(\"\\r\")\n",
    "for i in range(0,n):\n",
    "    for j in range(i,n-1):\n",
    "        print(\" * \" , end = \"\")\n",
    "    print(\"\\r\")\n"
   ]
  },
  {
   "cell_type": "code",
   "execution_count": 5,
   "id": "930d61ad",
   "metadata": {},
   "outputs": [
    {
     "name": "stdout",
     "output_type": "stream",
     "text": [
      "Enter a Word ineuron\n",
      "Reverse of the Word is norueni\n"
     ]
    }
   ],
   "source": [
    "#Question 2\n",
    "input_word = str(input('Enter a Word '))\n",
    "output = input_word[::-1]\n",
    "print('Reverse of the Word is',output)"
   ]
  },
  {
   "cell_type": "code",
   "execution_count": null,
   "id": "674ee7ea",
   "metadata": {},
   "outputs": [],
   "source": []
  }
 ],
 "metadata": {
  "kernelspec": {
   "display_name": "Python 3",
   "language": "python",
   "name": "python3"
  },
  "language_info": {
   "codemirror_mode": {
    "name": "ipython",
    "version": 3
   },
   "file_extension": ".py",
   "mimetype": "text/x-python",
   "name": "python",
   "nbconvert_exporter": "python",
   "pygments_lexer": "ipython3",
   "version": "3.8.8"
  }
 },
 "nbformat": 4,
 "nbformat_minor": 5
}

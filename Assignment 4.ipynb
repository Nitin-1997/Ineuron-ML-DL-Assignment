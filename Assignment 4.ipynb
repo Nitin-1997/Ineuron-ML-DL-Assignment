{
 "cells": [
  {
   "cell_type": "code",
   "execution_count": 4,
   "id": "d5bd66c5",
   "metadata": {},
   "outputs": [
    {
     "name": "stdout",
     "output_type": "stream",
     "text": [
      "Length of Side a = 4\n",
      "Length of Side b = 4\n",
      "Length of Side c = 4\n",
      "Area of Triangle is : 6.928203230275509\n"
     ]
    }
   ],
   "source": [
    "#Question 1.1\n",
    "class triangle_parent_class:\n",
    "    def __init__(self,a,b,c):\n",
    "        self.a = float(a)\n",
    "        self.b = float(b)\n",
    "        self.c = float(c)\n",
    "a= int(input(\"Length of Side a = \"))\n",
    "b= int(input(\"Length of Side b = \"))\n",
    "c= int(input(\"Length of Side c = \"))\n",
    "\n",
    "class triangle_subclass(triangle_parent_class):\n",
    "    def __init__(self,*args):\n",
    "        super().__init__(a,b,c)\n",
    "\n",
    "    def get_area(self):\n",
    "        s = (a + b + c) / 2\n",
    "        return (s*(s-a)*(s-b)*(s-c)) ** 0.5        \n",
    "\n",
    "object_t = triangle_subclass()\n",
    "print(\"Area of Triangle is : {}\".format(object_t.get_area()))"
   ]
  },
  {
   "cell_type": "code",
   "execution_count": 14,
   "id": "53859f4a",
   "metadata": {},
   "outputs": [
    {
     "name": "stdout",
     "output_type": "stream",
     "text": [
      "['kushal', 'gupta', 'sudh', 'kumar']\n"
     ]
    }
   ],
   "source": [
    "# Question 1.2\n",
    "def filter_long_words(List,Integer):\n",
    "    output = []\n",
    "    for i in range(len(List)):\n",
    "        if len(List[i]) > Integer:\n",
    "            output.append(List[i])\n",
    "    return output\n",
    "\n",
    "data_list = [\"kushal\",\"gupta\",\"123\",\"sudh\",\"kumar\",\"abc\"]\n",
    "data_integer= 3 \n",
    "\n",
    "print (str(filter_long_words(data_list , data_integer)))\n",
    "\n"
   ]
  },
  {
   "cell_type": "code",
   "execution_count": 23,
   "id": "3c5bd446",
   "metadata": {},
   "outputs": [
    {
     "name": "stdout",
     "output_type": "stream",
     "text": [
      "Output is [2, 3, 4, 3]\n"
     ]
    }
   ],
   "source": [
    "#Question 2.1\n",
    "Data = [\"ab\",\"cde\",\"erty\",\"123\"]\n",
    "def words_integer(Data):\n",
    " return list(map(lambda x: len(x), Data))\n",
    "\n",
    "print (\"Output is \" + str( words_integer(Data)))"
   ]
  },
  {
   "cell_type": "code",
   "execution_count": 35,
   "id": "d6ffcfed",
   "metadata": {},
   "outputs": [
    {
     "name": "stdout",
     "output_type": "stream",
     "text": [
      "Enter a Character a\n",
      "Output is  True\n"
     ]
    }
   ],
   "source": [
    "#  Question 2.2\n",
    "def is_vowel(char) :\n",
    "    try:\n",
    "            'aeiou'.index(char.lower())\n",
    "            return True\n",
    "    except: \n",
    "            return False\n",
    "data = str(input(\"Enter a Character \"))\n",
    "print(\"Output is \",is_vowel(data))"
   ]
  },
  {
   "cell_type": "code",
   "execution_count": null,
   "id": "e9a4b927",
   "metadata": {},
   "outputs": [],
   "source": []
  }
 ],
 "metadata": {
  "kernelspec": {
   "display_name": "Python 3",
   "language": "python",
   "name": "python3"
  },
  "language_info": {
   "codemirror_mode": {
    "name": "ipython",
    "version": 3
   },
   "file_extension": ".py",
   "mimetype": "text/x-python",
   "name": "python",
   "nbconvert_exporter": "python",
   "pygments_lexer": "ipython3",
   "version": "3.8.8"
  }
 },
 "nbformat": 4,
 "nbformat_minor": 5
}

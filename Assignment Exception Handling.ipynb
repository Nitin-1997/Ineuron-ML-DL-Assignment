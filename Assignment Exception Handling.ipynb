{
 "cells": [
  {
   "cell_type": "code",
   "execution_count": 27,
   "id": "76f7cd32",
   "metadata": {},
   "outputs": [
    {
     "name": "stdout",
     "output_type": "stream",
     "text": [
      "Enter the Numerator 5\n",
      "Enter the Denominator 0\n",
      "Denominator is zero therefore it is not divisible \n"
     ]
    }
   ],
   "source": [
    "#Question 1\n",
    "x= int(input(\"Enter the Numerator \"))\n",
    "y= int(input(\"Enter the Denominator \"))\n",
    "def divide(x,y):\n",
    "    try:\n",
    "        result = x / y\n",
    "        print (\"Output is \",result)\n",
    "    except :\n",
    "        print(\"Denominator is zero therefore it is not divisible \")\n",
    "divide(x,y)"
   ]
  },
  {
   "cell_type": "code",
   "execution_count": 24,
   "id": "69b93915",
   "metadata": {},
   "outputs": [
    {
     "name": "stdout",
     "output_type": "stream",
     "text": [
      "Americans Play Baseball\n",
      "Americans Play cricket\n",
      "Americans watch Baseball\n",
      "Americans watch cricket\n",
      "Indians Play Baseball\n",
      "Indians Play cricket\n",
      "Indians watch Baseball\n",
      "Indians watch cricket\n"
     ]
    }
   ],
   "source": [
    "#Question 2\n",
    "subjects = [\"Americans\", \"Indians\"]\n",
    "verbs = [\"Play\", \"watch\"]\n",
    "objects = [\"Baseball\",\"cricket\"]\n",
    "\n",
    "output = [(sub + \" \" + verb + \" \" + obj) for sub in subjects for verb in verbs for obj in objects ]\n",
    "\n",
    "for i in output :\n",
    "    print(i)"
   ]
  },
  {
   "cell_type": "code",
   "execution_count": null,
   "id": "e51802ab",
   "metadata": {},
   "outputs": [],
   "source": []
  }
 ],
 "metadata": {
  "kernelspec": {
   "display_name": "Python 3",
   "language": "python",
   "name": "python3"
  }
 },
 "nbformat": 4,
 "nbformat_minor": 5
}

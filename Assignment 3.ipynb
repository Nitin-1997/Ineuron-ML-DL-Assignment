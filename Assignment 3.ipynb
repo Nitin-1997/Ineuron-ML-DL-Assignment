{
 "cells": [
  {
   "cell_type": "code",
   "execution_count": 2,
   "id": "6cf466f7",
   "metadata": {},
   "outputs": [
    {
     "name": "stdout",
     "output_type": "stream",
     "text": [
      "378\n"
     ]
    }
   ],
   "source": [
    "#Question 1.1\n",
    "data=[1, 2, 3, 7, 9]\n",
    "\n",
    "def my_reduce(func_name, data):\n",
    "    result = data[0]\n",
    "    for i in data[1:]:\n",
    "        result = func_name(result, i)\n",
    "    return result\n",
    "\n",
    "def do_multiplication(x1, x2): \n",
    "    return x1*x2\n",
    "\n",
    "print(my_reduce(do_multiplication, data))"
   ]
  },
  {
   "cell_type": "code",
   "execution_count": 10,
   "id": "bc84146c",
   "metadata": {},
   "outputs": [
    {
     "name": "stdout",
     "output_type": "stream",
     "text": [
      "['sudh', 'kumar']\n"
     ]
    }
   ],
   "source": [
    "#Question 1.2\n",
    "data=[1,2,3,5,8,1,'sudh','kumar']\n",
    "output=[]\n",
    "\n",
    "def my_filter(is_str,data):\n",
    "    return is_str()\n",
    "\n",
    "def is_str():\n",
    "    for i in data:\n",
    "        if type(i)== str :\n",
    "            output.append(i)\n",
    "    print(output)\n",
    "    \n",
    "my_filter(is_str,data)"
   ]
  },
  {
   "cell_type": "code",
   "execution_count": 37,
   "id": "55510acd",
   "metadata": {},
   "outputs": [
    {
     "name": "stdout",
     "output_type": "stream",
     "text": [
      "Result of ['x','y','z'] data is ['x', 'xx', 'xxx', 'xxxx', 'y', 'yy', 'yyy', 'yyyy', 'z', 'zz', 'zzz', 'zzzz']\n",
      "Result of ['x','y','z'] data is ['x', 'y', 'z', 'xx', 'yy', 'zz', 'xxx', 'yyy', 'zzz', 'xxxx', 'yyyy', 'zzzz']\n",
      "Result of [2,3,4] data is       [[2], [3], [4], [3], [4], [5], [4], [5], [6]]\n",
      "Result of [2,3,4,5] data is     [[2, 3, 4, 5], [3, 4, 5, 6], [4, 5, 6, 7], [5, 6, 7, 8]]\n",
      "Result of [1,2,3] data is       [(1, 1), (2, 1), (3, 1), (1, 2), (2, 2), (3, 2), (1, 3), (2, 3), (3, 3)]\n"
     ]
    }
   ],
   "source": [
    "#Question 2\n",
    "data = ['x','y','z']\n",
    "\n",
    "output = [ i*num for i in data for num in range(1,5)  ]\n",
    "print(\"Result of ['x','y','z'] data is \" +   str(output))\n",
    "\n",
    "output = [ i*num for num in range(1,5) for i in data  ]\n",
    "print(\"Result of ['x','y','z'] data is \" +   str(output))\n",
    "\n",
    "data1 = [2,3,4]\n",
    "output = [ [i+num] for i in data1 for num in range(0,3)]\n",
    "print(\"Result of [2,3,4] data is       \" +  str(output))\n",
    "\n",
    "data2 = [2,3,4,5]\n",
    "output = [ [i+num for i in data2] for num in range(0,4)  ]\n",
    "print(\"Result of [2,3,4,5] data is     \" +  str(output))\n",
    "\n",
    "data3=[1,2,3]\n",
    "output = [ (b,a) for a in data3 for b in data3]\n",
    "print(\"Result of [1,2,3] data is       \" +  str(output))"
   ]
  }
 ],
 "metadata": {
  "kernelspec": {
   "display_name": "Python 3",
   "language": "python",
   "name": "python3"
  },
  "language_info": {
   "codemirror_mode": {
    "name": "ipython",
    "version": 3
   },
   "file_extension": ".py",
   "mimetype": "text/x-python",
   "name": "python",
   "nbconvert_exporter": "python",
   "pygments_lexer": "ipython3",
   "version": "3.8.8"
  }
 },
 "nbformat": 4,
 "nbformat_minor": 5
}
